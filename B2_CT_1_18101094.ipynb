{
  "nbformat": 4,
  "nbformat_minor": 0,
  "metadata": {
    "colab": {
      "name": "B2_CT_1_18101094.ipynb",
      "provenance": [],
      "collapsed_sections": [],
      "authorship_tag": "ABX9TyNNwbT5SrNBzW95ew12ini0",
      "include_colab_link": true
    },
    "kernelspec": {
      "name": "python3",
      "display_name": "Python 3"
    }
  },
  "cells": [
    {
      "cell_type": "markdown",
      "metadata": {
        "id": "view-in-github",
        "colab_type": "text"
      },
      "source": [
        "<a href=\"https://colab.research.google.com/github/littlesudip/CSE_310_18101094/blob/master/B2_CT_1_18101094.ipynb\" target=\"_parent\"><img src=\"https://colab.research.google.com/assets/colab-badge.svg\" alt=\"Open In Colab\"/></a>"
      ]
    },
    {
      "cell_type": "markdown",
      "metadata": {
        "id": "a_9s-KpSXEwc",
        "colab_type": "text"
      },
      "source": [
        "**1.** **A** python program to calculate compound interest."
      ]
    },
    {
      "cell_type": "code",
      "metadata": {
        "id": "OCS4PJaWXZ_t",
        "colab_type": "code",
        "colab": {
          "base_uri": "https://localhost:8080/",
          "height": 143
        },
        "outputId": "1c4411be-8fa0-47d9-d3c0-825acfe1de7e"
      },
      "source": [
        "print (\"Principle (amount in taka):\")\n",
        "P = float(input ())\n",
        "print (\"Time (in years):\")\n",
        "T = float(input ())\n",
        "print (\"Rate (of interest): \")\n",
        "R = float(input ())\n",
        "com = P*(pow((1+R/100),T))\n",
        "print(\"Compound Interest =\", round(com,3))"
      ],
      "execution_count": null,
      "outputs": [
        {
          "output_type": "stream",
          "text": [
            "Principle (amount in taka):\n",
            "1200\n",
            "Time (in years):\n",
            "2\n",
            "Rate (of interest): \n",
            "5.4\n",
            "Compound Interest = 1333.099\n"
          ],
          "name": "stdout"
        }
      ]
    },
    {
      "cell_type": "markdown",
      "metadata": {
        "id": "3VugDUxCaQ3u",
        "colab_type": "text"
      },
      "source": [
        "**2.** A python program to calculate the volume and surface area of a Cone.\n"
      ]
    },
    {
      "cell_type": "code",
      "metadata": {
        "id": "uMZpddbUaX8z",
        "colab_type": "code",
        "colab": {
          "base_uri": "https://localhost:8080/",
          "height": 107
        },
        "outputId": "32f24344-ed60-4fda-b588-b00cda7dee98"
      },
      "source": [
        "print(\"Radius of circular base: \")\n",
        "R = float(input ())\n",
        "print(\"Height from tip to base: \")\n",
        "H = float(input ())\n",
        "PIE = 3.1416\n",
        "VOL = (1/3) * PIE * R * R * H \n",
        "\n",
        "print (\"Volune Area:\", round(VOL,3))"
      ],
      "execution_count": null,
      "outputs": [
        {
          "output_type": "stream",
          "text": [
            "Radius of circular base: \n",
            "10\n",
            "Height from tip to base: \n",
            "20\n",
            "Surface area: 2094.4\n"
          ],
          "name": "stdout"
        }
      ]
    },
    {
      "cell_type": "markdown",
      "metadata": {
        "id": "1gNVBAGOcRky",
        "colab_type": "text"
      },
      "source": [
        "3. A python program to calculate the volume of the cube.\n"
      ]
    },
    {
      "cell_type": "code",
      "metadata": {
        "id": "sEPgvRzPcVYL",
        "colab_type": "code",
        "colab": {
          "base_uri": "https://localhost:8080/",
          "height": 89
        },
        "outputId": "89796485-3a18-4333-9df4-278c75abb077"
      },
      "source": [
        "print(\"Enter Any Side Length: \")\n",
        "a = float(input ())\n",
        "Volume = a * a * a \n",
        "Surface = 6 * a * a\n",
        "print (\"Volume :\", round(Volume,3))\n",
        "print (\"Surface Area:\", round(Surface,3))"
      ],
      "execution_count": null,
      "outputs": [
        {
          "output_type": "stream",
          "text": [
            "Enter Any Side Length: \n",
            "5\n",
            "Volume : 125.0\n",
            "Surface Area: 150.0\n"
          ],
          "name": "stdout"
        }
      ]
    }
  ]
}