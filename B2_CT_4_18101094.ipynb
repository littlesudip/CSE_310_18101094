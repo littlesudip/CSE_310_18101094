{
  "nbformat": 4,
  "nbformat_minor": 0,
  "metadata": {
    "colab": {
      "name": "B2_CT_4_18101094.ipynb",
      "provenance": [],
      "collapsed_sections": [],
      "include_colab_link": true
    },
    "kernelspec": {
      "name": "python3",
      "display_name": "Python 3"
    }
  },
  "cells": [
    {
      "cell_type": "markdown",
      "metadata": {
        "id": "view-in-github",
        "colab_type": "text"
      },
      "source": [
        "<a href=\"https://colab.research.google.com/github/littlesudip/CSE_310_18101094/blob/master/B2_CT_4_18101094.ipynb\" target=\"_parent\"><img src=\"https://colab.research.google.com/assets/colab-badge.svg\" alt=\"Open In Colab\"/></a>"
      ]
    },
    {
      "cell_type": "markdown",
      "metadata": {
        "id": "yM90MCLTkBen",
        "colab_type": "text"
      },
      "source": [
        "Qus 1. Write a python class to calculate the area of the geometric shapes. The class has the following functionalities: Calculate the area of  \t\t\t\t\t\n",
        "1.Triangle\n",
        "2.Square\n",
        "3.Rectangle \n",
        "4.Parallelogram \n",
        "5.Rhombus \n",
        "6.Surface area of Cylinder \n",
        "7.Surface area of Cube\n",
        "8.Surface area of Sphere \n",
        "Note: This class will always store the last output.\n"
      ]
    },
    {
      "cell_type": "code",
      "metadata": {
        "id": "lVw7MZurkCVQ",
        "colab_type": "code",
        "colab": {}
      },
      "source": [
        "class Area:\n",
        "    def __int__(self,length,breadth,side,side1,radius,height):\n",
        "\n",
        "        def triangle_area(self,length,breadth):\n",
        "            self.area = 0.5*length*breadth\n",
        "\n",
        "        def square_area(self,side):\n",
        "            self.area = side**2\n",
        "\n",
        "        def rectangle_area(self,length,breadth):\n",
        "             self.area = length*breadth\n",
        "\n",
        "        def parallelogram_area(self,breadth,height):\n",
        "             self.area = breadth*height\n",
        "\n",
        "        def rhombus_area(self,side,side1):\n",
        "            self.area = side*side1*0.5\n",
        "    \n",
        "        def cylinder_area(self,radius,height):\n",
        "            self.area =(2*3.1416*radius*height)+(2*3.1416*(radius**2))\n",
        "    \n",
        "        def cube_area(self,side):\n",
        "            self.area = 6*(side**2)\n",
        "\n",
        "        def sphere_area(self,radius):\n",
        "             self.area = 4*3.1416*(radius**2)\n"
      ],
      "execution_count": null,
      "outputs": []
    },
    {
      "cell_type": "markdown",
      "metadata": {
        "id": "9VlLjsFCnQib",
        "colab_type": "text"
      },
      "source": [
        "2. You are implementing a university management system for UAP. At some point you need to implement a student class to represent each and every student. Now, write a python class for student with necessary attributes and methods. \t"
      ]
    },
    {
      "cell_type": "code",
      "metadata": {
        "id": "IuNgyM71nTBl",
        "colab_type": "code",
        "colab": {}
      },
      "source": [
        "class Student:\n",
        "    def __init__(self,firstname,lastname,dept,id,phoneno,gpa):\n",
        "        self.firstname = firstname\n",
        "        self.lastname = lastname\n",
        "        self.dept = dept\n",
        "        self.id = id\n",
        "        self.phoneno = phoneno\n",
        "        self.gpa = gpa\n",
        "\n",
        "    def getfirstname(self):\n",
        "        return self.firstname\n",
        "    \n",
        "    def getlastname(self):\n",
        "        return self.lastname\n",
        "\n",
        "    def getdept(self):\n",
        "        return self.dept\n",
        " \n",
        "    def getid(self):\n",
        "        return self.id     \n",
        "\n",
        "    def getphoneno(self):\n",
        "        return self.phoneno\n",
        "      \n",
        "    def getgpa(self):\n",
        "        return self.gpa"
      ],
      "execution_count": null,
      "outputs": []
    }
  ]
}