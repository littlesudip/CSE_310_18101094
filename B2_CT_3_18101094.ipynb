{
  "nbformat": 4,
  "nbformat_minor": 0,
  "metadata": {
    "colab": {
      "name": " B2_CT_3_18101094.ipynb",
      "provenance": [],
      "collapsed_sections": [],
      "authorship_tag": "ABX9TyNmxhFVmYlnCkeOp32+4ojh",
      "include_colab_link": true
    },
    "kernelspec": {
      "name": "python3",
      "display_name": "Python 3"
    }
  },
  "cells": [
    {
      "cell_type": "markdown",
      "metadata": {
        "id": "view-in-github",
        "colab_type": "text"
      },
      "source": [
        "<a href=\"https://colab.research.google.com/github/littlesudip/CSE_310_18101094/blob/master/B2_CT_3_18101094.ipynb\" target=\"_parent\"><img src=\"https://colab.research.google.com/assets/colab-badge.svg\" alt=\"Open In Colab\"/></a>"
      ]
    },
    {
      "cell_type": "markdown",
      "metadata": {
        "id": "9aJLBPSGW7Nv",
        "colab_type": "text"
      },
      "source": [
        "1.Sum the following series"
      ]
    },
    {
      "cell_type": "code",
      "metadata": {
        "id": "i3OpVw6lXHX7",
        "colab_type": "code",
        "colab": {
          "base_uri": "https://localhost:8080/",
          "height": 52
        },
        "outputId": "49037b9a-fb1d-4892-8087-0f3b836d08a9"
      },
      "source": [
        "n = int(input('n: '))\n",
        "start = 1\n",
        "sum = 0\n",
        "for i in range(n):\n",
        "    sum = sum+start \n",
        "    start = start+2\n",
        "print('Sum:',sum)\n"
      ],
      "execution_count": null,
      "outputs": [
        {
          "output_type": "stream",
          "text": [
            "n: 6\n",
            "Sum: 36\n"
          ],
          "name": "stdout"
        }
      ]
    },
    {
      "cell_type": "markdown",
      "metadata": {
        "id": "WmGl0EosXjZn",
        "colab_type": "text"
      },
      "source": [
        "2.You have a group of 3 students. Each student has a name, ID and dept stored in a \tdictionary. And all 3 students are stored in a “students” dictionary. Now use a loop to iterate through the “students” dictionary and print only the “name” of all the students. "
      ]
    },
    {
      "cell_type": "code",
      "metadata": {
        "id": "oXBDS1abXvdw",
        "colab_type": "code",
        "colab": {
          "base_uri": "https://localhost:8080/",
          "height": 70
        },
        "outputId": "5e3233df-c714-47ab-ab47-1746bc830cd5"
      },
      "source": [
        "students = {\n",
        "10 : {'ID': 10,\n",
        "      'Name': 'Reem Hossain',\n",
        "      'Dept': 'CSE'},\n",
        "\n",
        "20 : { 'ID': 20, \n",
        "      'Name': 'Fahmidah Khan',\n",
        "      'Dept': 'CSE'},\n",
        "\n",
        "30 : {'ID': 30,\n",
        "      'Name': 'Ankita Paul',\n",
        "      'Dept': 'CSE'}\n",
        "\n",
        "}\n",
        "\n",
        "for i in students:\n",
        "    print(students[i]['Name']) "
      ],
      "execution_count": null,
      "outputs": [
        {
          "output_type": "stream",
          "text": [
            "Reem Hossain\n",
            "Fahmidah Khan\n",
            "Ankita Paul\n"
          ],
          "name": "stdout"
        }
      ]
    }
  ]
}