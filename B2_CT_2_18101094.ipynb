{
  "nbformat": 4,
  "nbformat_minor": 0,
  "metadata": {
    "colab": {
      "name": "B2_CT_2_18101094.ipynb",
      "provenance": [],
      "collapsed_sections": [],
      "authorship_tag": "ABX9TyNpxo8OUi4u5GIiV12IuYaw",
      "include_colab_link": true
    },
    "kernelspec": {
      "name": "python3",
      "display_name": "Python 3"
    }
  },
  "cells": [
    {
      "cell_type": "markdown",
      "metadata": {
        "id": "view-in-github",
        "colab_type": "text"
      },
      "source": [
        "<a href=\"https://colab.research.google.com/github/littlesudip/CSE_310_18101094/blob/master/B2_CT_2_18101094.ipynb\" target=\"_parent\"><img src=\"https://colab.research.google.com/assets/colab-badge.svg\" alt=\"Open In Colab\"/></a>"
      ]
    },
    {
      "cell_type": "markdown",
      "metadata": {
        "id": "EO8aL_0abv8l",
        "colab_type": "text"
      },
      "source": [
        "# **1.Write a python program to calculate the grade of an exam. The exam mark will be given as input. Follow the UAP rule for grading.**\t"
      ]
    },
    {
      "cell_type": "code",
      "metadata": {
        "id": "y6F7Zd02b40P",
        "colab_type": "code",
        "colab": {
          "base_uri": "https://localhost:8080/",
          "height": 52
        },
        "outputId": "e77eceac-f1ea-4054-c841-11cc83c4d6f6"
      },
      "source": [
        "marks = float(input(\"Input:\"))\n",
        "if  marks>=80:\n",
        "    print('Output: A+')\n",
        "elif (marks>=75) and (marks<80):\n",
        "    print('Output: A') \n",
        "elif (marks>=70) and (marks<75):\n",
        "    print('Output: A-')  \n",
        "elif (marks>=65) and (marks<70):\n",
        "    print('Output: B+')  \n",
        "elif (marks>=60) and (marks<65):\n",
        "    print('Output: B') \n",
        "elif (marks>=55) and (marks<60):\n",
        "    print('Output: B-')  \n",
        "elif (marks>=50) and (marks<55):\n",
        "    print('Output: C+')    \n",
        "elif (marks>=45) and (marks<50):\n",
        "    print('Output: C')\n",
        "elif (marks>=40) and (marks<45):\n",
        "    print('Output: C-')\n",
        "else:\n",
        "         print('Output: F')\n",
        "\n"
      ],
      "execution_count": null,
      "outputs": [
        {
          "output_type": "stream",
          "text": [
            "Input:74\n",
            "Output: A-\n"
          ],
          "name": "stdout"
        }
      ]
    },
    {
      "cell_type": "markdown",
      "metadata": {
        "id": "6ooUS2Bleb4L",
        "colab_type": "text"
      },
      "source": [
        "# ***2.Write a python code to determine negative or non-negative. ***\t"
      ]
    },
    {
      "cell_type": "code",
      "metadata": {
        "id": "1P4YrfNMega5",
        "colab_type": "code",
        "colab": {
          "base_uri": "https://localhost:8080/",
          "height": 52
        },
        "outputId": "5529fb0d-1565-4462-a3b9-ba021248653f"
      },
      "source": [
        "number = float(input(\"Input:\"))\n",
        "if number > 0:\n",
        "    print(\"Non-negative\")\n",
        "elif number == 0:\n",
        "    print(Zero)\n",
        "else:\n",
        "    print(\"Negative\")"
      ],
      "execution_count": null,
      "outputs": [
        {
          "output_type": "stream",
          "text": [
            "Input:1\n",
            "Non-negative\n"
          ],
          "name": "stdout"
        }
      ]
    },
    {
      "cell_type": "markdown",
      "metadata": {
        "id": "tmgffk4zgiZK",
        "colab_type": "text"
      },
      "source": [
        "# 3.Given a list of 5 elements, swap two values of specified index. "
      ]
    },
    {
      "cell_type": "code",
      "metadata": {
        "id": "ug8NLRSlgnCS",
        "colab_type": "code",
        "colab": {
          "base_uri": "https://localhost:8080/",
          "height": 158
        },
        "outputId": "8ea24a52-5426-499d-a64c-9738c9a07f08"
      },
      "source": [
        "element_1 = input('Element 1:')\n",
        "element_2 = input('Element 2:')\n",
        "element_3 = input('Element 3:')\n",
        "element_4 = input('Element 4:')\n",
        "element_5 = input('Element 5:')\n",
        "list = [element_1,element_2,element_3,element_4,element_5]\n",
        "index_1 = int (input('Index 1:'))\n",
        "index_2 = int (input('Index 2:'))\n",
        "temp = list[index_2]\n",
        "list[index_2] = list[index_1] \n",
        "list[index_1] = temp\n",
        "print('List =',list)"
      ],
      "execution_count": null,
      "outputs": [
        {
          "output_type": "stream",
          "text": [
            "Element 1:10\n",
            "Element 2:5\n",
            "Element 3:100\n",
            "Element 4:4\n",
            "Element 5:6\n",
            "Index 1:2\n",
            "Index 2:4\n",
            "List = ['10', '5', '6', '4', '100']\n"
          ],
          "name": "stdout"
        }
      ]
    },
    {
      "cell_type": "markdown",
      "metadata": {
        "id": "Av7_QaysiiGO",
        "colab_type": "text"
      },
      "source": [
        "# 4.Choose variables of appropriate data type to store the following information where you can search information about an employee with their EmpID.\t"
      ]
    },
    {
      "cell_type": "code",
      "metadata": {
        "id": "EwjJ5aovjm2K",
        "colab_type": "code",
        "colab": {
          "base_uri": "https://localhost:8080/",
          "height": 34
        },
        "outputId": "bd9a80be-6ba9-4803-c992-9f005f0cc4f1"
      },
      "source": [
        "emp_1={\n",
        "    'EmpID': 77920,\n",
        "    'LastName': 'Jackson',\n",
        "    'FirstName': 'Stephen',\n",
        "    'HireDate': '11-29-1997'\n",
        "}\n",
        "\n",
        "emp_2={\n",
        "    'EmpID': 77921,\n",
        "    'LastName': 'Reynolds',\n",
        "    'FirstName': 'Sandy', \n",
        "    'HireDate': '01-04-1993'\n",
        "}\n",
        "\n",
        "emp_3={\n",
        "    'EmpID': 77922,\n",
        "    'LastName': 'Armstrong',\n",
        "    'FirstName': 'Stephen', \n",
        "    'HireDate': '09-16-1989'\n",
        "}\n",
        "\n",
        "\n",
        "emp_4={\n",
        "    'EmpID': 77823,\n",
        "    'LastName': 'Jackson',\n",
        "    'FirstName': 'Linda', \n",
        "    'HireDate': '10-09-1996'\n",
        "}\n",
        "\n",
        "employee={ \n",
        "'77920':emp_1,\n",
        "'77921':emp_2,\n",
        "'77922':emp_3,\n",
        "'77923':emp_4\n",
        "}\n",
        "\n",
        "#For search information about an employee with their EmpID.\t\n",
        "print(employee['77921']['FirstName'])"
      ],
      "execution_count": null,
      "outputs": [
        {
          "output_type": "stream",
          "text": [
            "Sandy\n"
          ],
          "name": "stdout"
        }
      ]
    }
  ]
}